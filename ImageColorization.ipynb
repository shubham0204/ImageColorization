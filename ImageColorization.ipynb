{
  "nbformat": 4,
  "nbformat_minor": 0,
  "metadata": {
    "colab": {
      "name": "ImageColorization.ipynb",
      "version": "0.3.2",
      "provenance": [],
      "toc_visible": true,
      "include_colab_link": true
    },
    "kernelspec": {
      "name": "python3",
      "display_name": "Python 3"
    },
    "accelerator": "GPU"
  },
  "cells": [
    {
      "cell_type": "markdown",
      "metadata": {
        "id": "view-in-github",
        "colab_type": "text"
      },
      "source": [
        "<a href=\"https://colab.research.google.com/github/shubham0204/ImageColorization/blob/master/ImageColorization.ipynb\" target=\"_parent\"><img src=\"https://colab.research.google.com/assets/colab-badge.svg\" alt=\"Open In Colab\"/></a>"
      ]
    },
    {
      "metadata": {
        "id": "9exYVgtqDmGE",
        "colab_type": "text"
      },
      "cell_type": "markdown",
      "source": [
        "The project is also available at GitHub here -> https://github.com/shubham0204/ImageColorization"
      ]
    },
    {
      "metadata": {
        "id": "FER-2sf5Yghu",
        "colab_type": "text"
      },
      "cell_type": "markdown",
      "source": [
        "# 1) Importing the libraries\n",
        "We import [TensorFlow](https://www.tensorflow.org/), [Numpy](http://www.numpy.org/) and [scikit-image](https://scikit-image.org/) module for playing around with images. Printing out the TensorFlow version is a good practice to see that everything is working fine. ( See [Colorizer.py](https://github.com/shubham0204/ImageColorization/blob/master/Colorizer.py) on GitHub )"
      ]
    },
    {
      "metadata": {
        "id": "Gvqkjy-uNnpe",
        "colab_type": "code",
        "outputId": "300e9a3b-799b-4723-ee53-a62c50557184",
        "colab": {
          "base_uri": "https://localhost:8080/",
          "height": 34
        }
      },
      "cell_type": "code",
      "source": [
        "\n",
        "from tensorflow.keras.layers import *\n",
        "from tensorflow.keras.activations import *\n",
        "from tensorflow.keras import optimizers\n",
        "from tensorflow.keras import losses\n",
        "from tensorflow.keras import models\n",
        "from skimage.io import imshow , imsave\n",
        "import tensorflow as tf\n",
        "import numpy as np\n",
        "\n",
        "print( tf.VERSION ) \n"
      ],
      "execution_count": 2,
      "outputs": [
        {
          "output_type": "stream",
          "text": [
            "1.12.0\n"
          ],
          "name": "stdout"
        }
      ]
    },
    {
      "metadata": {
        "id": "LV9qJFLlZKMv",
        "colab_type": "text"
      },
      "cell_type": "markdown",
      "source": [
        "# 2) Loading the data\n",
        "We load the data which is stored in .npy files using the `np.load` method. We print out the shapes of the training and testing data.\n",
        "\n",
        "\n",
        "*   To convert your own images to .npy files, refer to the GitHub project and see the [Parser.py ](https://github.com/shubham0204/ImageColorization/blob/master/Parser.py)file.\n",
        "*   For sample data, download the three files from the [sample_data directory](https://github.com/shubham0204/ImageColorization/tree/master/sample_data) of the GitHub project.\n",
        "\n",
        "\n"
      ]
    },
    {
      "metadata": {
        "id": "fHh6w4VRRFtx",
        "colab_type": "code",
        "outputId": "4e62f94d-0794-491d-f018-6532d938886b",
        "colab": {
          "base_uri": "https://localhost:8080/",
          "height": 51
        }
      },
      "cell_type": "code",
      "source": [
        "\n",
        "X = np.load( 'X.npy' ) \n",
        "Y = np.load( 'Y.npy' ) \n",
        "test_X = np.load( 'test_X.npy' ) \n",
        "\n",
        "print( X.shape ,Y.shape ) \n",
        "print( test_X.shape ) \n"
      ],
      "execution_count": 3,
      "outputs": [
        {
          "output_type": "stream",
          "text": [
            "(190, 64, 64, 1) (190, 64, 64, 3)\n",
            "(6, 64, 64, 1)\n"
          ],
          "name": "stdout"
        }
      ]
    },
    {
      "metadata": {
        "id": "F3qQrVizZg-d",
        "colab_type": "text"
      },
      "cell_type": "markdown",
      "source": [
        "# 3) Defining the model\n",
        "We define our Convolutional Auto Encoder model using the Keras [Sequential API](https://www.tensorflow.org/api_docs/python/tf/keras/models/Sequential).\n",
        "\n",
        "\n",
        "*   We use a low dropout rate of 0.3,\n",
        "*   `DIMEN` is the dimension of the image which acts as an input to the model. In our case, it is 64 or the image has dimensions of 64px * 64px.\n",
        "\n",
        "We compile the model to use the Adam optimizer with a learning rate of 0.0001. The loss function is mean squared error and we output the `mae` or mean absolute error of the model during training. ( See [Colorizer.py](https://github.com/shubham0204/ImageColorization/blob/master/Colorizer.py) on GitHub )\n",
        "\n"
      ]
    },
    {
      "metadata": {
        "id": "J6PMbuWKQhzA",
        "colab_type": "code",
        "colab": {}
      },
      "cell_type": "code",
      "source": [
        "\n",
        "dropout_rate = 0.5\n",
        "DIMEN = 64\n",
        "kernel_size = ( 4 , 4 )\n",
        "\n",
        "NEURAL_SCHEMA = [\n",
        "\n",
        "    Conv2D( 32 , input_shape=( DIMEN , DIMEN , 1 ) , kernel_size=kernel_size , strides=1,activation=relu),\n",
        "    Dropout( dropout_rate ) ,\n",
        "    Conv2D( 64, kernel_size=kernel_size, strides=1, activation=relu),\n",
        "    Dropout(dropout_rate),\n",
        "    Conv2D( 128, kernel_size=kernel_size, strides=1, activation=relu) ,\n",
        "    Dropout(dropout_rate),\n",
        "    Conv2D( 256, kernel_size=kernel_size, strides=1, activation=relu),\n",
        "    Dropout(dropout_rate),\n",
        "    Conv2DTranspose( 128, kernel_size=kernel_size, strides=1, activation=relu),\n",
        "    Dropout(dropout_rate),\n",
        "    Conv2DTranspose( 64, kernel_size=kernel_size, strides=1, activation=relu),\n",
        "    Dropout(dropout_rate),\n",
        "    Conv2DTranspose( 32, kernel_size=kernel_size, strides=1, activation=relu),\n",
        "    Dropout(dropout_rate),\n",
        "    Conv2DTranspose( 3, kernel_size=kernel_size, strides=1, activation=relu ),\n",
        "\n",
        "]\n",
        "\n",
        "model = tf.keras.Sequential( NEURAL_SCHEMA )\n",
        "\n",
        "model.compile(\n",
        "    optimizer=optimizers.Adam(0.0001),\n",
        "    loss=losses.mean_squared_error,\n",
        "    metrics=['mae'],\n",
        ")\n"
      ],
      "execution_count": 0,
      "outputs": []
    },
    {
      "metadata": {
        "id": "XtWauJ_oa91F",
        "colab_type": "text"
      },
      "cell_type": "markdown",
      "source": [
        "# 4) Training the model\n",
        "We train the model over the training dataset using the `fit()` method.  ( See [Colorizer.py](https://github.com/shubham0204/ImageColorization/blob/master/Colorizer.py) on GitHub )\n"
      ]
    },
    {
      "metadata": {
        "id": "HsiYdr5yEiVr",
        "colab_type": "text"
      },
      "cell_type": "markdown",
      "source": [
        "**Note : If required, load the model which was trained earlier or use the model located in the [models](https://github.com/shubham0204/ImageColorization/tree/master/models) directory on GitHub.**"
      ]
    },
    {
      "metadata": {
        "id": "Nr9XCkZbEi0S",
        "colab_type": "code",
        "colab": {}
      },
      "cell_type": "code",
      "source": [
        "\n",
        "model = models.load_model( 'model.h5' ) \n"
      ],
      "execution_count": 0,
      "outputs": []
    },
    {
      "metadata": {
        "id": "BENB4VEVRakX",
        "colab_type": "code",
        "colab": {
          "base_uri": "https://localhost:8080/",
          "height": 2159
        },
        "outputId": "8e449abd-fade-4361-8df9-f68ffc4d1db6"
      },
      "cell_type": "code",
      "source": [
        "\n",
        "model.fit(\n",
        "    X, \n",
        "    Y, \n",
        "    batch_size=3 , \n",
        "    epochs=100\n",
        ")\n"
      ],
      "execution_count": 0,
      "outputs": [
        {
          "output_type": "stream",
          "text": [
            "Epoch 1/100\n",
            "190/190 [==============================] - 5s 28ms/step - loss: 0.3294 - mean_absolute_error: 0.2514\n",
            "Epoch 2/100\n",
            "190/190 [==============================] - 4s 21ms/step - loss: 0.1734 - mean_absolute_error: 0.1762\n",
            "Epoch 3/100\n",
            "190/190 [==============================] - 4s 21ms/step - loss: 0.1215 - mean_absolute_error: 0.1458\n",
            "Epoch 4/100\n",
            "190/190 [==============================] - 4s 21ms/step - loss: 0.1008 - mean_absolute_error: 0.1328\n",
            "Epoch 5/100\n",
            "190/190 [==============================] - 4s 21ms/step - loss: 0.0887 - mean_absolute_error: 0.1246\n",
            "Epoch 6/100\n",
            "190/190 [==============================] - 4s 21ms/step - loss: 0.0808 - mean_absolute_error: 0.1186\n",
            "Epoch 7/100\n",
            "190/190 [==============================] - 4s 21ms/step - loss: 0.0754 - mean_absolute_error: 0.1144\n",
            "Epoch 8/100\n",
            "190/190 [==============================] - 4s 21ms/step - loss: 0.0702 - mean_absolute_error: 0.1104\n",
            "Epoch 9/100\n",
            "190/190 [==============================] - 4s 21ms/step - loss: 0.0667 - mean_absolute_error: 0.1079\n",
            "Epoch 10/100\n",
            "190/190 [==============================] - 4s 21ms/step - loss: 0.0629 - mean_absolute_error: 0.1046\n",
            "Epoch 11/100\n",
            "190/190 [==============================] - 4s 21ms/step - loss: 0.0604 - mean_absolute_error: 0.1021\n",
            "Epoch 12/100\n",
            "190/190 [==============================] - 4s 21ms/step - loss: 0.0587 - mean_absolute_error: 0.1009\n",
            "Epoch 13/100\n",
            "190/190 [==============================] - 4s 21ms/step - loss: 0.0557 - mean_absolute_error: 0.0979\n",
            "Epoch 14/100\n",
            "190/190 [==============================] - 4s 21ms/step - loss: 0.0539 - mean_absolute_error: 0.0965\n",
            "Epoch 15/100\n",
            "190/190 [==============================] - 4s 21ms/step - loss: 0.0526 - mean_absolute_error: 0.0950\n",
            "Epoch 16/100\n",
            "190/190 [==============================] - 4s 21ms/step - loss: 0.0511 - mean_absolute_error: 0.0937\n",
            "Epoch 17/100\n",
            "190/190 [==============================] - 4s 21ms/step - loss: 0.0498 - mean_absolute_error: 0.0925\n",
            "Epoch 18/100\n",
            "190/190 [==============================] - 4s 21ms/step - loss: 0.0488 - mean_absolute_error: 0.0915\n",
            "Epoch 19/100\n",
            "190/190 [==============================] - 4s 21ms/step - loss: 0.0471 - mean_absolute_error: 0.0899\n",
            "Epoch 20/100\n",
            "190/190 [==============================] - 4s 21ms/step - loss: 0.0463 - mean_absolute_error: 0.0890\n",
            "Epoch 21/100\n",
            "190/190 [==============================] - 4s 21ms/step - loss: 0.0455 - mean_absolute_error: 0.0882\n",
            "Epoch 22/100\n",
            "190/190 [==============================] - 4s 21ms/step - loss: 0.0446 - mean_absolute_error: 0.0874\n",
            "Epoch 23/100\n",
            "190/190 [==============================] - 4s 21ms/step - loss: 0.0443 - mean_absolute_error: 0.0871\n",
            "Epoch 24/100\n",
            "190/190 [==============================] - 4s 21ms/step - loss: 0.0435 - mean_absolute_error: 0.0861\n",
            "Epoch 25/100\n",
            "190/190 [==============================] - 4s 21ms/step - loss: 0.0422 - mean_absolute_error: 0.0848\n",
            "Epoch 26/100\n",
            "190/190 [==============================] - 4s 21ms/step - loss: 0.0419 - mean_absolute_error: 0.0845\n",
            "Epoch 27/100\n",
            "190/190 [==============================] - 4s 21ms/step - loss: 0.0417 - mean_absolute_error: 0.0842\n",
            "Epoch 28/100\n",
            "190/190 [==============================] - 4s 21ms/step - loss: 0.0409 - mean_absolute_error: 0.0834\n",
            "Epoch 29/100\n",
            "190/190 [==============================] - 4s 21ms/step - loss: 0.0399 - mean_absolute_error: 0.0823\n",
            "Epoch 30/100\n",
            "190/190 [==============================] - 4s 21ms/step - loss: 0.0398 - mean_absolute_error: 0.0822\n",
            "Epoch 31/100\n",
            "190/190 [==============================] - 4s 21ms/step - loss: 0.0391 - mean_absolute_error: 0.0816\n",
            "Epoch 32/100\n",
            "190/190 [==============================] - 4s 21ms/step - loss: 0.0387 - mean_absolute_error: 0.0810\n",
            "Epoch 33/100\n",
            "190/190 [==============================] - 4s 21ms/step - loss: 0.0386 - mean_absolute_error: 0.0811\n",
            "Epoch 34/100\n",
            "190/190 [==============================] - 4s 21ms/step - loss: 0.0384 - mean_absolute_error: 0.0808\n",
            "Epoch 35/100\n",
            "190/190 [==============================] - 4s 21ms/step - loss: 0.0375 - mean_absolute_error: 0.0799\n",
            "Epoch 36/100\n",
            "190/190 [==============================] - 4s 21ms/step - loss: 0.0372 - mean_absolute_error: 0.0796\n",
            "Epoch 37/100\n",
            "190/190 [==============================] - 4s 21ms/step - loss: 0.0367 - mean_absolute_error: 0.0789\n",
            "Epoch 38/100\n",
            "190/190 [==============================] - 4s 21ms/step - loss: 0.0366 - mean_absolute_error: 0.0787\n",
            "Epoch 39/100\n",
            "190/190 [==============================] - 4s 21ms/step - loss: 0.0365 - mean_absolute_error: 0.0786\n",
            "Epoch 40/100\n",
            "190/190 [==============================] - 4s 21ms/step - loss: 0.0362 - mean_absolute_error: 0.0785\n",
            "Epoch 41/100\n",
            "190/190 [==============================] - 4s 21ms/step - loss: 0.0357 - mean_absolute_error: 0.0777\n",
            "Epoch 42/100\n",
            "190/190 [==============================] - 4s 21ms/step - loss: 0.0357 - mean_absolute_error: 0.0777\n",
            "Epoch 43/100\n",
            "190/190 [==============================] - 4s 21ms/step - loss: 0.0358 - mean_absolute_error: 0.0780\n",
            "Epoch 44/100\n",
            "190/190 [==============================] - 4s 21ms/step - loss: 0.0353 - mean_absolute_error: 0.0774\n",
            "Epoch 45/100\n",
            "190/190 [==============================] - 4s 21ms/step - loss: 0.0346 - mean_absolute_error: 0.0765\n",
            "Epoch 46/100\n",
            "190/190 [==============================] - 4s 21ms/step - loss: 0.0347 - mean_absolute_error: 0.0765\n",
            "Epoch 47/100\n",
            "190/190 [==============================] - 4s 21ms/step - loss: 0.0346 - mean_absolute_error: 0.0767\n",
            "Epoch 48/100\n",
            "190/190 [==============================] - 4s 21ms/step - loss: 0.0344 - mean_absolute_error: 0.0761\n",
            "Epoch 49/100\n",
            "190/190 [==============================] - 4s 21ms/step - loss: 0.0338 - mean_absolute_error: 0.0755\n",
            "Epoch 50/100\n",
            "190/190 [==============================] - 4s 21ms/step - loss: 0.0338 - mean_absolute_error: 0.0757\n",
            "Epoch 51/100\n",
            "190/190 [==============================] - 4s 21ms/step - loss: 0.0333 - mean_absolute_error: 0.0748\n",
            "Epoch 52/100\n",
            "190/190 [==============================] - 4s 21ms/step - loss: 0.0331 - mean_absolute_error: 0.0747\n",
            "Epoch 53/100\n",
            "190/190 [==============================] - 4s 21ms/step - loss: 0.0331 - mean_absolute_error: 0.0747\n",
            "Epoch 54/100\n",
            "190/190 [==============================] - 4s 21ms/step - loss: 0.0327 - mean_absolute_error: 0.0742\n",
            "Epoch 55/100\n",
            "190/190 [==============================] - 4s 21ms/step - loss: 0.0326 - mean_absolute_error: 0.0744\n",
            "Epoch 56/100\n",
            "190/190 [==============================] - 4s 21ms/step - loss: 0.0323 - mean_absolute_error: 0.0740\n",
            "Epoch 57/100\n",
            "190/190 [==============================] - 4s 21ms/step - loss: 0.0321 - mean_absolute_error: 0.0735\n",
            "Epoch 58/100\n",
            "190/190 [==============================] - 4s 21ms/step - loss: 0.0320 - mean_absolute_error: 0.0735\n",
            "Epoch 59/100\n",
            "190/190 [==============================] - 4s 21ms/step - loss: 0.0321 - mean_absolute_error: 0.0734\n",
            "Epoch 60/100\n",
            "190/190 [==============================] - 4s 21ms/step - loss: 0.0319 - mean_absolute_error: 0.0733\n",
            "Epoch 61/100\n",
            "190/190 [==============================] - 4s 21ms/step - loss: 0.0317 - mean_absolute_error: 0.0733\n",
            "Epoch 62/100\n",
            "190/190 [==============================] - 4s 21ms/step - loss: 0.0317 - mean_absolute_error: 0.0732\n",
            "Epoch 63/100\n",
            "190/190 [==============================] - 4s 21ms/step - loss: 0.0318 - mean_absolute_error: 0.0733\n",
            "Epoch 64/100\n",
            " 24/190 [==>...........................] - ETA: 3s - loss: 0.0298 - mean_absolute_error: 0.0706"
          ],
          "name": "stdout"
        }
      ]
    },
    {
      "metadata": {
        "id": "KeyH6qRrct1v",
        "colab_type": "text"
      },
      "cell_type": "markdown",
      "source": [
        "We save the model to export it or download it to our local machine using `model.save()` method. **Tip : To use it on an Android or iOS device, use [this notebook](https://colab.research.google.com/drive/1IUIn9ffk5ICKujqPyuGaHL2irQ9Wmtpm) to convert the model.h5 to a [TensorFlow Lite](https://www.tensorflow.org/lite) model ( .tflite ).**"
      ]
    },
    {
      "metadata": {
        "id": "I9rObwqpcslp",
        "colab_type": "code",
        "colab": {}
      },
      "cell_type": "code",
      "source": [
        "\n",
        "model.save( 'model.h5')\n"
      ],
      "execution_count": 0,
      "outputs": []
    },
    {
      "metadata": {
        "id": "9KpZXzxfboy5",
        "colab_type": "text"
      },
      "cell_type": "markdown",
      "source": [
        "# 5) Colorizing the images\n",
        "\n",
        "\n",
        "\n",
        "1.   We take the grayscale images and feed them to our model\n",
        "2.   To avoid negative values, we perform a operation to convert all negative values to 0.\n",
        "3.   We multiply the values by 255 ( the images used for training were normalised ).\n",
        "4.   Convert the values to a image array using `imsave( )` method.\n",
        "\n",
        "( See [MainFile.py ](https://github.com/shubham0204/ImageColorization/blob/master/MainFile.py)on GitHub )\n",
        "\n",
        "\n",
        "\n"
      ]
    },
    {
      "metadata": {
        "id": "yCY8ZIkARpLx",
        "colab_type": "code",
        "outputId": "590f7585-ec85-4e1a-d528-75fe6470e4be",
        "colab": {
          "base_uri": "https://localhost:8080/",
          "height": 455
        }
      },
      "cell_type": "code",
      "source": [
        "\n",
        "values = model.predict( test_X )\n",
        "values = np.maximum( values , 0 )\n",
        "\n",
        "for i in range( 3 ):\n",
        "    image_final = ( values[i] * 255).astype( np.uint8 )\n",
        "    imsave( '{}.png'.format( i + 1 ) , image_final  )\n",
        "    imshow( image_final )\n"
      ],
      "execution_count": 10,
      "outputs": [
        {
          "output_type": "stream",
          "text": [
            "/usr/local/lib/python3.6/dist-packages/skimage/io/_plugins/matplotlib_plugin.py:51: FutureWarning: Conversion of the second argument of issubdtype from `float` to `np.floating` is deprecated. In future, it will be treated as `np.float64 == np.dtype(float).type`.\n",
            "  out_of_range_float = (np.issubdtype(image.dtype, np.float) and\n"
          ],
          "name": "stderr"
        },
        {
          "output_type": "display_data",
          "data": {
            "image/png": "[encoded data removed]",
            "text/plain": [
              "<matplotlib.figure.Figure at 0x7f4bf5f9d0f0>"
            ]
          },
          "metadata": {
            "tags": []
          }
        }
      ]
    }
  ]
}